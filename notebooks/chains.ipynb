{
 "cells": [
  {
   "cell_type": "markdown",
   "metadata": {},
   "source": [
    "# Import Libraries"
   ]
  },
  {
   "cell_type": "code",
   "execution_count": 18,
   "metadata": {},
   "outputs": [
    {
     "data": {
      "text/plain": [
       "True"
      ]
     },
     "execution_count": 18,
     "metadata": {},
     "output_type": "execute_result"
    }
   ],
   "source": [
    "from langchain.llms.openai import OpenAIChat\n",
    "from langchain.prompts.prompt import PromptTemplate\n",
    "from langchain.chains import LLMChain, SimpleSequentialChain, SequentialChain\n",
    "from langchain.globals import set_debug\n",
    "from dotenv import load_dotenv\n",
    "\n",
    "set_debug(True)  # Enable debug mode\n",
    "load_dotenv()  # Load the variables from .env file"
   ]
  },
  {
   "cell_type": "markdown",
   "metadata": {},
   "source": [
    "# LLMChain"
   ]
  },
  {
   "cell_type": "markdown",
   "metadata": {},
   "source": [
    "Chain is an encapsulation of Model, prompt, and optionally a parser."
   ]
  },
  {
   "cell_type": "code",
   "execution_count": 7,
   "metadata": {},
   "outputs": [
    {
     "name": "stderr",
     "output_type": "stream",
     "text": [
      "/home/mmostafa/miniconda3/envs/aienv10/lib/python3.10/site-packages/langchain/llms/openai.py:811: UserWarning: You are trying to use a chat model. This way of initializing it is no longer supported. Instead, please use: `from langchain.chat_models import ChatOpenAI`\n",
      "  warnings.warn(\n"
     ]
    }
   ],
   "source": [
    "model = OpenAIChat(temperature=0.9)\n",
    "prompt = PromptTemplate.from_template(\n",
    "    \"What is the best name to describe \\\n",
    "    a company that makes {product}?\"\n",
    ")\n",
    "\n",
    "chain = LLMChain(llm=model, prompt=prompt)"
   ]
  },
  {
   "cell_type": "code",
   "execution_count": 9,
   "metadata": {},
   "outputs": [
    {
     "name": "stdout",
     "output_type": "stream",
     "text": [
      "\u001b[32;1m\u001b[1;3m[chain/start]\u001b[0m \u001b[1m[1:chain:LLMChain] Entering Chain run with input:\n",
      "\u001b[0m{\n",
      "  \"product\": \"Potato Chips\"\n",
      "}\n",
      "\u001b[32;1m\u001b[1;3m[llm/start]\u001b[0m \u001b[1m[1:chain:LLMChain > 2:llm:OpenAIChat] Entering LLM run with input:\n",
      "\u001b[0m{\n",
      "  \"prompts\": [\n",
      "    \"What is the best name to describe     a company that makes Potato Chips?\"\n",
      "  ]\n",
      "}\n",
      "\u001b[36;1m\u001b[1;3m[llm/end]\u001b[0m \u001b[1m[1:chain:LLMChain > 2:llm:OpenAIChat] [711ms] Exiting LLM run with output:\n",
      "\u001b[0m{\n",
      "  \"generations\": [\n",
      "    [\n",
      "      {\n",
      "        \"text\": \"The Crunch Factory\",\n",
      "        \"generation_info\": null\n",
      "      }\n",
      "    ]\n",
      "  ],\n",
      "  \"llm_output\": {\n",
      "    \"token_usage\": {\n",
      "      \"prompt_tokens\": 22,\n",
      "      \"completion_tokens\": 3,\n",
      "      \"total_tokens\": 25\n",
      "    },\n",
      "    \"model_name\": \"gpt-3.5-turbo\"\n",
      "  },\n",
      "  \"run\": null\n",
      "}\n",
      "\u001b[36;1m\u001b[1;3m[chain/end]\u001b[0m \u001b[1m[1:chain:LLMChain] [758ms] Exiting Chain run with output:\n",
      "\u001b[0m{\n",
      "  \"text\": \"The Crunch Factory\"\n",
      "}\n"
     ]
    },
    {
     "data": {
      "text/plain": [
       "{'product': 'Potato Chips', 'text': 'The Crunch Factory'}"
      ]
     },
     "execution_count": 9,
     "metadata": {},
     "output_type": "execute_result"
    }
   ],
   "source": [
    "chain(\"Potato Chips\")"
   ]
  },
  {
   "cell_type": "markdown",
   "metadata": {},
   "source": [
    "# SimpleSequentialChain"
   ]
  },
  {
   "cell_type": "markdown",
   "metadata": {},
   "source": [
    "Chains can be connected to each other. The output of the previous chain is the input of the next chain. The `SimpleSequentialChain` is a simple chain that can be used to connect multiple chains."
   ]
  },
  {
   "cell_type": "code",
   "execution_count": 17,
   "metadata": {},
   "outputs": [],
   "source": [
    "# This is a simpler method to create a template.\n",
    "prompt_1 = PromptTemplate.from_template(\n",
    "    \"What is the best name to describe \\\n",
    "    a company that makes {product}?\"\n",
    ")\n",
    "\n",
    "chain_1 = LLMChain(llm=model, prompt=prompt_1)"
   ]
  },
  {
   "cell_type": "code",
   "execution_count": 12,
   "metadata": {},
   "outputs": [],
   "source": [
    "prompt_2 = PromptTemplate.from_template(\n",
    "    \"Write a 20 words description for the following \\\n",
    "    company:{company_name}\"\n",
    ")\n",
    "\n",
    "chain_2 = LLMChain(llm=model, prompt=prompt_2)"
   ]
  },
  {
   "cell_type": "code",
   "execution_count": 15,
   "metadata": {},
   "outputs": [],
   "source": [
    "simple_chain = SimpleSequentialChain(chains=[chain_1, chain_2])"
   ]
  },
  {
   "cell_type": "code",
   "execution_count": 16,
   "metadata": {},
   "outputs": [
    {
     "name": "stdout",
     "output_type": "stream",
     "text": [
      "\u001b[32;1m\u001b[1;3m[chain/start]\u001b[0m \u001b[1m[1:chain:SimpleSequentialChain] Entering Chain run with input:\n",
      "\u001b[0m{\n",
      "  \"input\": \"Potato Chips\"\n",
      "}\n",
      "\u001b[32;1m\u001b[1;3m[chain/start]\u001b[0m \u001b[1m[1:chain:SimpleSequentialChain > 2:chain:LLMChain] Entering Chain run with input:\n",
      "\u001b[0m{\n",
      "  \"product\": \"Potato Chips\"\n",
      "}\n",
      "\u001b[32;1m\u001b[1;3m[llm/start]\u001b[0m \u001b[1m[1:chain:SimpleSequentialChain > 2:chain:LLMChain > 3:llm:OpenAIChat] Entering LLM run with input:\n",
      "\u001b[0m{\n",
      "  \"prompts\": [\n",
      "    \"What is the best name to describe     a company that makes Potato Chips?\"\n",
      "  ]\n",
      "}\n",
      "\u001b[36;1m\u001b[1;3m[llm/end]\u001b[0m \u001b[1m[1:chain:SimpleSequentialChain > 2:chain:LLMChain > 3:llm:OpenAIChat] [1.90s] Exiting LLM run with output:\n",
      "\u001b[0m{\n",
      "  \"generations\": [\n",
      "    [\n",
      "      {\n",
      "        \"text\": \"\\\"Crisp Delights\\\"\",\n",
      "        \"generation_info\": null\n",
      "      }\n",
      "    ]\n",
      "  ],\n",
      "  \"llm_output\": {\n",
      "    \"token_usage\": {\n",
      "      \"prompt_tokens\": 22,\n",
      "      \"completion_tokens\": 6,\n",
      "      \"total_tokens\": 28\n",
      "    },\n",
      "    \"model_name\": \"gpt-3.5-turbo\"\n",
      "  },\n",
      "  \"run\": null\n",
      "}\n",
      "\u001b[36;1m\u001b[1;3m[chain/end]\u001b[0m \u001b[1m[1:chain:SimpleSequentialChain > 2:chain:LLMChain] [1.91s] Exiting Chain run with output:\n",
      "\u001b[0m{\n",
      "  \"text\": \"\\\"Crisp Delights\\\"\"\n",
      "}\n",
      "\u001b[32;1m\u001b[1;3m[chain/start]\u001b[0m \u001b[1m[1:chain:SimpleSequentialChain > 4:chain:LLMChain] Entering Chain run with input:\n",
      "\u001b[0m{\n",
      "  \"company_name\": \"\\\"Crisp Delights\\\"\"\n",
      "}\n",
      "\u001b[32;1m\u001b[1;3m[llm/start]\u001b[0m \u001b[1m[1:chain:SimpleSequentialChain > 4:chain:LLMChain > 5:llm:OpenAIChat] Entering LLM run with input:\n",
      "\u001b[0m{\n",
      "  \"prompts\": [\n",
      "    \"Write a 20 words description for the following     company:\\\"Crisp Delights\\\"\"\n",
      "  ]\n",
      "}\n",
      "\u001b[36;1m\u001b[1;3m[llm/end]\u001b[0m \u001b[1m[1:chain:SimpleSequentialChain > 4:chain:LLMChain > 5:llm:OpenAIChat] [1.72s] Exiting LLM run with output:\n",
      "\u001b[0m{\n",
      "  \"generations\": [\n",
      "    [\n",
      "      {\n",
      "        \"text\": \"Crisp Delights offers a tantalizing selection of gourmet snacks and treats that are full of flavor and satisfaction.\",\n",
      "        \"generation_info\": null\n",
      "      }\n",
      "    ]\n",
      "  ],\n",
      "  \"llm_output\": {\n",
      "    \"token_usage\": {\n",
      "      \"prompt_tokens\": 25,\n",
      "      \"completion_tokens\": 23,\n",
      "      \"total_tokens\": 48\n",
      "    },\n",
      "    \"model_name\": \"gpt-3.5-turbo\"\n",
      "  },\n",
      "  \"run\": null\n",
      "}\n",
      "\u001b[36;1m\u001b[1;3m[chain/end]\u001b[0m \u001b[1m[1:chain:SimpleSequentialChain > 4:chain:LLMChain] [1.72s] Exiting Chain run with output:\n",
      "\u001b[0m{\n",
      "  \"text\": \"Crisp Delights offers a tantalizing selection of gourmet snacks and treats that are full of flavor and satisfaction.\"\n",
      "}\n",
      "\u001b[36;1m\u001b[1;3m[chain/end]\u001b[0m \u001b[1m[1:chain:SimpleSequentialChain] [3.68s] Exiting Chain run with output:\n",
      "\u001b[0m{\n",
      "  \"output\": \"Crisp Delights offers a tantalizing selection of gourmet snacks and treats that are full of flavor and satisfaction.\"\n",
      "}\n"
     ]
    },
    {
     "data": {
      "text/plain": [
       "{'input': 'Potato Chips',\n",
       " 'output': 'Crisp Delights offers a tantalizing selection of gourmet snacks and treats that are full of flavor and satisfaction.'}"
      ]
     },
     "execution_count": 16,
     "metadata": {},
     "output_type": "execute_result"
    }
   ],
   "source": [
    "simple_chain(\"Potato Chips\")"
   ]
  },
  {
   "cell_type": "markdown",
   "metadata": {},
   "source": [
    "# SequentialChain"
   ]
  },
  {
   "cell_type": "markdown",
   "metadata": {},
   "source": [
    "it can be used to connect multiple chains non-sequentially, by specifying `output_key` that the next chain needs to receive."
   ]
  },
  {
   "cell_type": "code",
   "execution_count": 36,
   "metadata": {},
   "outputs": [],
   "source": [
    "# prompt template 1: translate to english\n",
    "prompt_1 = PromptTemplate.from_template(\n",
    "    \"Translate the following review to english:\" \"\\n\\n{Review}\"\n",
    ")\n",
    "# chain 1: input = Review and output = English_Review\n",
    "chain_1 = LLMChain(llm=model, prompt=prompt_1, output_key=\"English_Review\")"
   ]
  },
  {
   "cell_type": "code",
   "execution_count": 37,
   "metadata": {},
   "outputs": [],
   "source": [
    "# prompt template 2: summarize\n",
    "prompt_2 = PromptTemplate.from_template(\n",
    "    \"Can you summarize the following review in 1 sentence:\" \"\\n\\n{English_Review}\"\n",
    ")\n",
    "# chain 2: input = English_Review and output = summary\n",
    "chain_2 = LLMChain(llm=model, prompt=prompt_2, output_key=\"summary\")"
   ]
  },
  {
   "cell_type": "code",
   "execution_count": 38,
   "metadata": {},
   "outputs": [],
   "source": [
    "# prompt template 3: Know the language\n",
    "prompt_3 = PromptTemplate.from_template(\n",
    "    \"What language is the following review:\\n\\n{Review}\"\n",
    ")\n",
    "# chain 3: input = Review and output = language\n",
    "chain_3 = LLMChain(llm=model, prompt=prompt_3, output_key=\"language\")"
   ]
  },
  {
   "cell_type": "code",
   "execution_count": 39,
   "metadata": {},
   "outputs": [],
   "source": [
    "# prompt template 4: follow up message\n",
    "prompt_4 = PromptTemplate.from_template(\n",
    "    \"Write a follow up response to the following \\\n",
    "    summary in the specified language: \\\n",
    "    \\n\\nSummary: {summary}\\n\\nLanguage: {language}\"\n",
    ")\n",
    "# chain 4: input = summary, language and output = followup_message\n",
    "chain_4 = LLMChain(llm=model, prompt=prompt_4, output_key=\"followup_message\")"
   ]
  },
  {
   "cell_type": "code",
   "execution_count": 40,
   "metadata": {},
   "outputs": [],
   "source": [
    "# sequential_chain: input = Review\n",
    "# and output = English_Review,summary, followup_message\n",
    "sequential_chain = SequentialChain(\n",
    "    chains=[chain_1, chain_2, chain_3, chain_4],\n",
    "    input_variables=[\"Review\"],\n",
    "    output_variables=[\"English_Review\", \"summary\", \"followup_message\"],\n",
    ")"
   ]
  },
  {
   "cell_type": "code",
   "execution_count": 41,
   "metadata": {},
   "outputs": [],
   "source": [
    "french_customer_review = \"\"\"\\\n",
    "Je trouve le goût médiocre. La mousse ne tient pas, c'est bizarre. \\\n",
    "J'achète les mêmes dans le commerce et le goût est bien meilleur.\"\n",
    "\"\"\""
   ]
  },
  {
   "cell_type": "code",
   "execution_count": 43,
   "metadata": {},
   "outputs": [
    {
     "name": "stdout",
     "output_type": "stream",
     "text": [
      "\u001b[32;1m\u001b[1;3m[chain/start]\u001b[0m \u001b[1m[1:chain:SequentialChain] Entering Chain run with input:\n",
      "\u001b[0m{\n",
      "  \"Review\": \"Je trouve le goût médiocre. La mousse ne tient pas, c'est bizarre. J'achète les mêmes dans le commerce et le goût est bien meilleur.\\\"\\n\"\n",
      "}\n",
      "\u001b[32;1m\u001b[1;3m[chain/start]\u001b[0m \u001b[1m[1:chain:SequentialChain > 2:chain:LLMChain] Entering Chain run with input:\n",
      "\u001b[0m{\n",
      "  \"Review\": \"Je trouve le goût médiocre. La mousse ne tient pas, c'est bizarre. J'achète les mêmes dans le commerce et le goût est bien meilleur.\\\"\\n\"\n",
      "}\n",
      "\u001b[32;1m\u001b[1;3m[llm/start]\u001b[0m \u001b[1m[1:chain:SequentialChain > 2:chain:LLMChain > 3:llm:OpenAIChat] Entering LLM run with input:\n",
      "\u001b[0m{\n",
      "  \"prompts\": [\n",
      "    \"Translate the following review to english:\\n\\nJe trouve le goût médiocre. La mousse ne tient pas, c'est bizarre. J'achète les mêmes dans le commerce et le goût est bien meilleur.\\\"\"\n",
      "  ]\n",
      "}\n",
      "\u001b[36;1m\u001b[1;3m[llm/end]\u001b[0m \u001b[1m[1:chain:SequentialChain > 2:chain:LLMChain > 3:llm:OpenAIChat] [2.31s] Exiting LLM run with output:\n",
      "\u001b[0m{\n",
      "  \"generations\": [\n",
      "    [\n",
      "      {\n",
      "        \"text\": \"I find the taste mediocre. The foam does not hold, it's strange. I buy the same ones in stores and the taste is much better.\",\n",
      "        \"generation_info\": null\n",
      "      }\n",
      "    ]\n",
      "  ],\n",
      "  \"llm_output\": {\n",
      "    \"token_usage\": {\n",
      "      \"prompt_tokens\": 54,\n",
      "      \"completion_tokens\": 30,\n",
      "      \"total_tokens\": 84\n",
      "    },\n",
      "    \"model_name\": \"gpt-3.5-turbo\"\n",
      "  },\n",
      "  \"run\": null\n",
      "}\n",
      "\u001b[36;1m\u001b[1;3m[chain/end]\u001b[0m \u001b[1m[1:chain:SequentialChain > 2:chain:LLMChain] [2.31s] Exiting Chain run with output:\n",
      "\u001b[0m{\n",
      "  \"English_Review\": \"I find the taste mediocre. The foam does not hold, it's strange. I buy the same ones in stores and the taste is much better.\"\n",
      "}\n",
      "\u001b[32;1m\u001b[1;3m[chain/start]\u001b[0m \u001b[1m[1:chain:SequentialChain > 4:chain:LLMChain] Entering Chain run with input:\n",
      "\u001b[0m{\n",
      "  \"Review\": \"Je trouve le goût médiocre. La mousse ne tient pas, c'est bizarre. J'achète les mêmes dans le commerce et le goût est bien meilleur.\\\"\\n\",\n",
      "  \"English_Review\": \"I find the taste mediocre. The foam does not hold, it's strange. I buy the same ones in stores and the taste is much better.\"\n",
      "}\n",
      "\u001b[32;1m\u001b[1;3m[llm/start]\u001b[0m \u001b[1m[1:chain:SequentialChain > 4:chain:LLMChain > 5:llm:OpenAIChat] Entering LLM run with input:\n",
      "\u001b[0m{\n",
      "  \"prompts\": [\n",
      "    \"Can you summarize the following review in 1 sentence:\\n\\nI find the taste mediocre. The foam does not hold, it's strange. I buy the same ones in stores and the taste is much better.\"\n",
      "  ]\n",
      "}\n",
      "\u001b[36;1m\u001b[1;3m[llm/end]\u001b[0m \u001b[1m[1:chain:SequentialChain > 4:chain:LLMChain > 5:llm:OpenAIChat] [1.95s] Exiting LLM run with output:\n",
      "\u001b[0m{\n",
      "  \"generations\": [\n",
      "    [\n",
      "      {\n",
      "        \"text\": \"The reviewer was disappointed with the mediocre taste and lack of foam stability, contrasting it with a better taste experience from the same product purchased in stores.\",\n",
      "        \"generation_info\": null\n",
      "      }\n",
      "    ]\n",
      "  ],\n",
      "  \"llm_output\": {\n",
      "    \"token_usage\": {\n",
      "      \"prompt_tokens\": 48,\n",
      "      \"completion_tokens\": 29,\n",
      "      \"total_tokens\": 77\n",
      "    },\n",
      "    \"model_name\": \"gpt-3.5-turbo\"\n",
      "  },\n",
      "  \"run\": null\n",
      "}\n",
      "\u001b[36;1m\u001b[1;3m[chain/end]\u001b[0m \u001b[1m[1:chain:SequentialChain > 4:chain:LLMChain] [1.96s] Exiting Chain run with output:\n",
      "\u001b[0m{\n",
      "  \"summary\": \"The reviewer was disappointed with the mediocre taste and lack of foam stability, contrasting it with a better taste experience from the same product purchased in stores.\"\n",
      "}\n",
      "\u001b[32;1m\u001b[1;3m[chain/start]\u001b[0m \u001b[1m[1:chain:SequentialChain > 6:chain:LLMChain] Entering Chain run with input:\n",
      "\u001b[0m{\n",
      "  \"Review\": \"Je trouve le goût médiocre. La mousse ne tient pas, c'est bizarre. J'achète les mêmes dans le commerce et le goût est bien meilleur.\\\"\\n\",\n",
      "  \"English_Review\": \"I find the taste mediocre. The foam does not hold, it's strange. I buy the same ones in stores and the taste is much better.\",\n",
      "  \"summary\": \"The reviewer was disappointed with the mediocre taste and lack of foam stability, contrasting it with a better taste experience from the same product purchased in stores.\"\n",
      "}\n",
      "\u001b[32;1m\u001b[1;3m[llm/start]\u001b[0m \u001b[1m[1:chain:SequentialChain > 6:chain:LLMChain > 7:llm:OpenAIChat] Entering LLM run with input:\n",
      "\u001b[0m{\n",
      "  \"prompts\": [\n",
      "    \"What language is the following review:\\n\\nJe trouve le goût médiocre. La mousse ne tient pas, c'est bizarre. J'achète les mêmes dans le commerce et le goût est bien meilleur.\\\"\"\n",
      "  ]\n",
      "}\n",
      "\u001b[36;1m\u001b[1;3m[llm/end]\u001b[0m \u001b[1m[1:chain:SequentialChain > 6:chain:LLMChain > 7:llm:OpenAIChat] [1.07s] Exiting LLM run with output:\n",
      "\u001b[0m{\n",
      "  \"generations\": [\n",
      "    [\n",
      "      {\n",
      "        \"text\": \"The review is in French.\",\n",
      "        \"generation_info\": null\n",
      "      }\n",
      "    ]\n",
      "  ],\n",
      "  \"llm_output\": {\n",
      "    \"token_usage\": {\n",
      "      \"prompt_tokens\": 54,\n",
      "      \"completion_tokens\": 6,\n",
      "      \"total_tokens\": 60\n",
      "    },\n",
      "    \"model_name\": \"gpt-3.5-turbo\"\n",
      "  },\n",
      "  \"run\": null\n",
      "}\n",
      "\u001b[36;1m\u001b[1;3m[chain/end]\u001b[0m \u001b[1m[1:chain:SequentialChain > 6:chain:LLMChain] [1.07s] Exiting Chain run with output:\n",
      "\u001b[0m{\n",
      "  \"language\": \"The review is in French.\"\n",
      "}\n",
      "\u001b[32;1m\u001b[1;3m[chain/start]\u001b[0m \u001b[1m[1:chain:SequentialChain > 8:chain:LLMChain] Entering Chain run with input:\n",
      "\u001b[0m{\n",
      "  \"Review\": \"Je trouve le goût médiocre. La mousse ne tient pas, c'est bizarre. J'achète les mêmes dans le commerce et le goût est bien meilleur.\\\"\\n\",\n",
      "  \"English_Review\": \"I find the taste mediocre. The foam does not hold, it's strange. I buy the same ones in stores and the taste is much better.\",\n",
      "  \"summary\": \"The reviewer was disappointed with the mediocre taste and lack of foam stability, contrasting it with a better taste experience from the same product purchased in stores.\",\n",
      "  \"language\": \"The review is in French.\"\n",
      "}\n",
      "\u001b[32;1m\u001b[1;3m[llm/start]\u001b[0m \u001b[1m[1:chain:SequentialChain > 8:chain:LLMChain > 9:llm:OpenAIChat] Entering LLM run with input:\n",
      "\u001b[0m{\n",
      "  \"prompts\": [\n",
      "    \"Write a follow up response to the following     summary in the specified language:     \\n\\nSummary: The reviewer was disappointed with the mediocre taste and lack of foam stability, contrasting it with a better taste experience from the same product purchased in stores.\\n\\nLanguage: The review is in French.\"\n",
      "  ]\n",
      "}\n"
     ]
    },
    {
     "name": "stderr",
     "output_type": "stream",
     "text": [
      "Retrying langchain.llms.openai.completion_with_retry.<locals>._completion_with_retry in 4.0 seconds as it raised RateLimitError: Rate limit reached for gpt-3.5-turbo in organization org-dnanFMzkqEPXh6Dgutwmyuw0 on requests per min (RPM): Limit 3, Used 3, Requested 1. Please try again in 20s. Visit https://platform.openai.com/account/rate-limits to learn more. You can increase your rate limit by adding a payment method to your account at https://platform.openai.com/account/billing..\n",
      "Retrying langchain.llms.openai.completion_with_retry.<locals>._completion_with_retry in 4.0 seconds as it raised RateLimitError: Rate limit reached for gpt-3.5-turbo in organization org-dnanFMzkqEPXh6Dgutwmyuw0 on requests per min (RPM): Limit 3, Used 3, Requested 1. Please try again in 20s. Visit https://platform.openai.com/account/rate-limits to learn more. You can increase your rate limit by adding a payment method to your account at https://platform.openai.com/account/billing..\n"
     ]
    },
    {
     "name": "stdout",
     "output_type": "stream",
     "text": [
      "\u001b[36;1m\u001b[1;3m[llm/end]\u001b[0m \u001b[1m[1:chain:SequentialChain > 8:chain:LLMChain > 9:llm:OpenAIChat] [36.56s] Exiting LLM run with output:\n",
      "\u001b[0m{\n",
      "  \"generations\": [\n",
      "    [\n",
      "      {\n",
      "        \"text\": \"Réponse de suivi:\\n\\nCher(e) critique,\\n\\nNous vous remercions d'avoir partagé vos commentaires sur votre expérience d'achat de notre produit. Nous sommes désolés d'apprendre que vous avez été déçu(e) par le goût médiocre et la faible stabilité de la mousse. Votre opinion est importante pour nous, et nous souhaitons nous améliorer en conséquence.\\n\\nNous tenons à souligner que nous prenons toutes les mesures nécessaires pour garantir la qualité de nos produits, y compris leur goût et leur texture. Cependant, il peut arriver que des variations se produisent en fonction de plusieurs facteurs, tels que la manipulation ou le stockage du produit.\\n\\nNous aimerions mieux comprendre votre expérience et identifier la cause de ce problème. Pourriez-vous nous fournir plus de détails, tels que le numéro de lot ou la date d'achat, afin que nous puissions enquêter plus en profondeur?\\n\\nEn attendant, nous vous recommandons de retourner le produit à l'endroit où vous l'avez acheté, en présentant votre ticket de caisse, afin que vous puissiez obtenir un remboursement ou un échange. Nous voulons nous assurer que vous soyez entièrement satisfait(e) de votre achat.\\n\\nNous espérons que vous nous donnerez une autre chance de vous impressionner avec nos produits à l'avenir. Votre satisfaction est notre priorité absolue.\\n\\nBien à vous,\\n\\nL'équipe du service client.\",\n",
      "        \"generation_info\": null\n",
      "      }\n",
      "    ]\n",
      "  ],\n",
      "  \"llm_output\": {\n",
      "    \"token_usage\": {\n",
      "      \"prompt_tokens\": 62,\n",
      "      \"completion_tokens\": 343,\n",
      "      \"total_tokens\": 405\n",
      "    },\n",
      "    \"model_name\": \"gpt-3.5-turbo\"\n",
      "  },\n",
      "  \"run\": null\n",
      "}\n",
      "\u001b[36;1m\u001b[1;3m[chain/end]\u001b[0m \u001b[1m[1:chain:SequentialChain > 8:chain:LLMChain] [36.57s] Exiting Chain run with output:\n",
      "\u001b[0m{\n",
      "  \"followup_message\": \"Réponse de suivi:\\n\\nCher(e) critique,\\n\\nNous vous remercions d'avoir partagé vos commentaires sur votre expérience d'achat de notre produit. Nous sommes désolés d'apprendre que vous avez été déçu(e) par le goût médiocre et la faible stabilité de la mousse. Votre opinion est importante pour nous, et nous souhaitons nous améliorer en conséquence.\\n\\nNous tenons à souligner que nous prenons toutes les mesures nécessaires pour garantir la qualité de nos produits, y compris leur goût et leur texture. Cependant, il peut arriver que des variations se produisent en fonction de plusieurs facteurs, tels que la manipulation ou le stockage du produit.\\n\\nNous aimerions mieux comprendre votre expérience et identifier la cause de ce problème. Pourriez-vous nous fournir plus de détails, tels que le numéro de lot ou la date d'achat, afin que nous puissions enquêter plus en profondeur?\\n\\nEn attendant, nous vous recommandons de retourner le produit à l'endroit où vous l'avez acheté, en présentant votre ticket de caisse, afin que vous puissiez obtenir un remboursement ou un échange. Nous voulons nous assurer que vous soyez entièrement satisfait(e) de votre achat.\\n\\nNous espérons que vous nous donnerez une autre chance de vous impressionner avec nos produits à l'avenir. Votre satisfaction est notre priorité absolue.\\n\\nBien à vous,\\n\\nL'équipe du service client.\"\n",
      "}\n",
      "\u001b[36;1m\u001b[1;3m[chain/end]\u001b[0m \u001b[1m[1:chain:SequentialChain] [41.91s] Exiting Chain run with output:\n",
      "\u001b[0m{\n",
      "  \"English_Review\": \"I find the taste mediocre. The foam does not hold, it's strange. I buy the same ones in stores and the taste is much better.\",\n",
      "  \"summary\": \"The reviewer was disappointed with the mediocre taste and lack of foam stability, contrasting it with a better taste experience from the same product purchased in stores.\",\n",
      "  \"followup_message\": \"Réponse de suivi:\\n\\nCher(e) critique,\\n\\nNous vous remercions d'avoir partagé vos commentaires sur votre expérience d'achat de notre produit. Nous sommes désolés d'apprendre que vous avez été déçu(e) par le goût médiocre et la faible stabilité de la mousse. Votre opinion est importante pour nous, et nous souhaitons nous améliorer en conséquence.\\n\\nNous tenons à souligner que nous prenons toutes les mesures nécessaires pour garantir la qualité de nos produits, y compris leur goût et leur texture. Cependant, il peut arriver que des variations se produisent en fonction de plusieurs facteurs, tels que la manipulation ou le stockage du produit.\\n\\nNous aimerions mieux comprendre votre expérience et identifier la cause de ce problème. Pourriez-vous nous fournir plus de détails, tels que le numéro de lot ou la date d'achat, afin que nous puissions enquêter plus en profondeur?\\n\\nEn attendant, nous vous recommandons de retourner le produit à l'endroit où vous l'avez acheté, en présentant votre ticket de caisse, afin que vous puissiez obtenir un remboursement ou un échange. Nous voulons nous assurer que vous soyez entièrement satisfait(e) de votre achat.\\n\\nNous espérons que vous nous donnerez une autre chance de vous impressionner avec nos produits à l'avenir. Votre satisfaction est notre priorité absolue.\\n\\nBien à vous,\\n\\nL'équipe du service client.\"\n",
      "}\n"
     ]
    }
   ],
   "source": [
    "sequential_response = sequential_chain(french_customer_review)"
   ]
  },
  {
   "cell_type": "code",
   "execution_count": 45,
   "metadata": {},
   "outputs": [
    {
     "data": {
      "text/plain": [
       "{'Review': 'Je trouve le goût médiocre. La mousse ne tient pas, c\\'est bizarre. J\\'achète les mêmes dans le commerce et le goût est bien meilleur.\"\\n',\n",
       " 'English_Review': \"I find the taste mediocre. The foam does not hold, it's strange. I buy the same ones in stores and the taste is much better.\",\n",
       " 'summary': 'The reviewer was disappointed with the mediocre taste and lack of foam stability, contrasting it with a better taste experience from the same product purchased in stores.',\n",
       " 'followup_message': \"Réponse de suivi:\\n\\nCher(e) critique,\\n\\nNous vous remercions d'avoir partagé vos commentaires sur votre expérience d'achat de notre produit. Nous sommes désolés d'apprendre que vous avez été déçu(e) par le goût médiocre et la faible stabilité de la mousse. Votre opinion est importante pour nous, et nous souhaitons nous améliorer en conséquence.\\n\\nNous tenons à souligner que nous prenons toutes les mesures nécessaires pour garantir la qualité de nos produits, y compris leur goût et leur texture. Cependant, il peut arriver que des variations se produisent en fonction de plusieurs facteurs, tels que la manipulation ou le stockage du produit.\\n\\nNous aimerions mieux comprendre votre expérience et identifier la cause de ce problème. Pourriez-vous nous fournir plus de détails, tels que le numéro de lot ou la date d'achat, afin que nous puissions enquêter plus en profondeur?\\n\\nEn attendant, nous vous recommandons de retourner le produit à l'endroit où vous l'avez acheté, en présentant votre ticket de caisse, afin que vous puissiez obtenir un remboursement ou un échange. Nous voulons nous assurer que vous soyez entièrement satisfait(e) de votre achat.\\n\\nNous espérons que vous nous donnerez une autre chance de vous impressionner avec nos produits à l'avenir. Votre satisfaction est notre priorité absolue.\\n\\nBien à vous,\\n\\nL'équipe du service client.\"}"
      ]
     },
     "execution_count": 45,
     "metadata": {},
     "output_type": "execute_result"
    }
   ],
   "source": [
    "sequential_response"
   ]
  }
 ],
 "metadata": {
  "kernelspec": {
   "display_name": "aienv10",
   "language": "python",
   "name": "python3"
  },
  "language_info": {
   "codemirror_mode": {
    "name": "ipython",
    "version": 3
   },
   "file_extension": ".py",
   "mimetype": "text/x-python",
   "name": "python",
   "nbconvert_exporter": "python",
   "pygments_lexer": "ipython3",
   "version": "3.10.13"
  }
 },
 "nbformat": 4,
 "nbformat_minor": 2
}
